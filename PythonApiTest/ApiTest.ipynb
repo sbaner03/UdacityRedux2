{
 "cells": [
  {
   "cell_type": "code",
   "execution_count": null,
   "metadata": {
    "collapsed": true
   },
   "outputs": [],
   "source": [
    "import aiohttp\n",
    "import asyncio\n",
    "import async_timeout\n",
    "from datetime import datetime\n",
    "import pickle\n",
    "import pandas as pd\n",
    "import json\n",
    "import ast"
   ]
  },
  {
   "cell_type": "code",
   "execution_count": null,
   "metadata": {
    "collapsed": true
   },
   "outputs": [],
   "source": [
    "token ='anything'\n",
    "async def post(session, url,data, headers = {'Accept': 'application/json','Authorization': token,'Content-Type': 'application/json'}):\n",
    "    with async_timeout.timeout(0):\n",
    "        async with session.post(url,data = data, headers=headers) as response:\n",
    "            try:\n",
    "                return await response.json(),response.status\n",
    "            except:\n",
    "                return await response.text(),response.status\n",
    "async def postvariable(url,string,data):\n",
    "    async with aiohttp.ClientSession() as session:\n",
    "        url = url+string\n",
    "        response = await post(session, url,data)\n",
    "        return response"
   ]
  },
  {
   "cell_type": "code",
   "execution_count": null,
   "metadata": {
    "collapsed": true
   },
   "outputs": [],
   "source": [
    "loop = asyncio.get_event_loop()\n",
    "resp, status = loop.run_until_complete(postvariable('http://localhost:5001/comments','',json.dumps(newComment)))\n",
    "print (resp,status)"
   ]
  },
  {
   "cell_type": "code",
   "execution_count": null,
   "metadata": {
    "collapsed": true
   },
   "outputs": [],
   "source": [
    "token ='anything'\n",
    "async def get(session, url,data=[], headers = {'Accept': 'application/json','Authorization': token,'Content-Type': 'application/json'}):\n",
    "    \n",
    "    with async_timeout.timeout(0):\n",
    "        if data:\n",
    "            async with session.get(url,data = data, headers=headers) as response:\n",
    "                try:\n",
    "                    return await response.json(),response.status\n",
    "                except:\n",
    "                    return await response.text(),response.status\n",
    "        else:\n",
    "            async with session.get(url,headers=headers) as response:\n",
    "                try:\n",
    "                    return await response.json(),response.status\n",
    "                except:\n",
    "                    return await response.text(),response.status\n",
    "            \n",
    "async def postvariable(url,string,data=[]):\n",
    "    async with aiohttp.ClientSession() as session:\n",
    "        url = url+string\n",
    "        response = await get(session, url,data)\n",
    "        return response"
   ]
  },
  {
   "cell_type": "code",
   "execution_count": null,
   "metadata": {},
   "outputs": [],
   "source": [
    "loop = asyncio.get_event_loop()\n",
    "resp, status = loop.run_until_complete(postvariable('http://localhost:5001','/posts/8xf0y6ziyjabvozdd253nd/comments'))\n",
    "print (resp,status)"
   ]
  },
  {
   "cell_type": "code",
   "execution_count": null,
   "metadata": {},
   "outputs": [],
   "source": [
    "resp"
   ]
  },
  {
   "cell_type": "code",
   "execution_count": null,
   "metadata": {
    "collapsed": true
   },
   "outputs": [],
   "source": []
  }
 ],
 "metadata": {
  "kernelspec": {
   "display_name": "Python 3",
   "language": "python",
   "name": "python3"
  },
  "language_info": {
   "codemirror_mode": {
    "name": "ipython",
    "version": 3
   },
   "file_extension": ".py",
   "mimetype": "text/x-python",
   "name": "python",
   "nbconvert_exporter": "python",
   "pygments_lexer": "ipython3",
   "version": "3.6.1"
  }
 },
 "nbformat": 4,
 "nbformat_minor": 2
}
