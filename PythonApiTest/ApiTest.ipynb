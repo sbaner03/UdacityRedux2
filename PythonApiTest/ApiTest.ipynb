{
 "cells": [
  {
   "cell_type": "code",
   "execution_count": 1,
   "metadata": {
    "collapsed": true
   },
   "outputs": [],
   "source": [
    "import aiohttp\n",
    "import asyncio\n",
    "import async_timeout\n",
    "from datetime import datetime\n",
    "import pickle\n",
    "import pandas as pd\n",
    "import json\n",
    "import ast"
   ]
  },
  {
   "cell_type": "code",
   "execution_count": 2,
   "metadata": {
    "collapsed": true
   },
   "outputs": [],
   "source": [
    "token ='anything'\n",
    "async def post(session, url,data, headers = {'Accept': 'application/json','Authorization': token,'Content-Type': 'application/json'}):\n",
    "    with async_timeout.timeout(0):\n",
    "        async with session.post(url,data = data, headers=headers) as response:\n",
    "            try:\n",
    "                return await response.json(),response.status\n",
    "            except:\n",
    "                return await response.text(),response.status\n",
    "async def postvariable(url,string,data):\n",
    "    async with aiohttp.ClientSession() as session:\n",
    "        url = url+string\n",
    "        response = await post(session, url,data)\n",
    "        return response"
   ]
  },
  {
   "cell_type": "markdown",
   "metadata": {},
   "source": [
    "loop = asyncio.get_event_loop()\n",
    "resp, status = loop.run_until_complete(postvariable('http://localhost:5001/comments','',json.dumps(newComment)))\n",
    "print (resp,status)"
   ]
  },
  {
   "cell_type": "code",
   "execution_count": 3,
   "metadata": {
    "collapsed": true
   },
   "outputs": [],
   "source": [
    "token ='anything'\n",
    "async def get(session, url,data=[], headers = {'Accept': 'application/json','Authorization': token,'Content-Type': 'application/json'}):\n",
    "    \n",
    "    with async_timeout.timeout(0):\n",
    "        if data:\n",
    "            async with session.get(url,data = data, headers=headers) as response:\n",
    "                try:\n",
    "                    return await response.json(),response.status\n",
    "                except:\n",
    "                    return await response.text(),response.status\n",
    "        else:\n",
    "            async with session.get(url,headers=headers) as response:\n",
    "                try:\n",
    "                    return await response.json(),response.status\n",
    "                except:\n",
    "                    return await response.text(),response.status\n",
    "            \n",
    "async def postvariable(url,string,data=[]):\n",
    "    async with aiohttp.ClientSession() as session:\n",
    "        url = url+string\n",
    "        response = await get(session, url,data)\n",
    "        return response"
   ]
  },
  {
   "cell_type": "code",
   "execution_count": 6,
   "metadata": {},
   "outputs": [
    {
     "name": "stdout",
     "output_type": "stream",
     "text": [
      "[{'id': '8xf0y6ziyjabvozdd253nd', 'timestamp': 1467166872634, 'title': 'Udacity is the best place to learn react in the world', 'body': 'where can i learn react in india', 'author': 'thingtwo', 'category': 'react', 'voteScore': 6, 'deleted': False}, {'id': '6ni6ok3ym7mf1p33lnez', 'timestamp': 1468479767190, 'title': 'Learn Redux in 10 minutes flat!', 'body': 'Just kidding. It takes more than 10 minutes to learn technology especially Redux', 'author': 'thingone', 'category': 'redux', 'voteScore': -5, 'deleted': False}, {'id': 'ryr-HHtqW', 'timestamp': 1505477884898, 'title': 'Redux is hard', 'body': 'Redux is harder to understand than React', 'author': 'Supratim', 'category': 'udacity', 'voteScore': 4, 'deleted': True}] 200\n"
     ]
    }
   ],
   "source": [
    "loop = asyncio.get_event_loop()\n",
    "resp, status = loop.run_until_complete(postvariable('http://localhost:5001','/posts'))\n",
    "print (resp,status)"
   ]
  },
  {
   "cell_type": "code",
   "execution_count": 7,
   "metadata": {},
   "outputs": [
    {
     "data": {
      "text/plain": [
       "[{'author': 'thingtwo',\n",
       "  'body': 'where can i learn react in india',\n",
       "  'category': 'react',\n",
       "  'deleted': False,\n",
       "  'id': '8xf0y6ziyjabvozdd253nd',\n",
       "  'timestamp': 1467166872634,\n",
       "  'title': 'Udacity is the best place to learn react in the world',\n",
       "  'voteScore': 6},\n",
       " {'author': 'thingone',\n",
       "  'body': 'Just kidding. It takes more than 10 minutes to learn technology especially Redux',\n",
       "  'category': 'redux',\n",
       "  'deleted': False,\n",
       "  'id': '6ni6ok3ym7mf1p33lnez',\n",
       "  'timestamp': 1468479767190,\n",
       "  'title': 'Learn Redux in 10 minutes flat!',\n",
       "  'voteScore': -5},\n",
       " {'author': 'Supratim',\n",
       "  'body': 'Redux is harder to understand than React',\n",
       "  'category': 'udacity',\n",
       "  'deleted': True,\n",
       "  'id': 'ryr-HHtqW',\n",
       "  'timestamp': 1505477884898,\n",
       "  'title': 'Redux is hard',\n",
       "  'voteScore': 4}]"
      ]
     },
     "execution_count": 7,
     "metadata": {},
     "output_type": "execute_result"
    }
   ],
   "source": [
    "resp"
   ]
  },
  {
   "cell_type": "code",
   "execution_count": null,
   "metadata": {
    "collapsed": true
   },
   "outputs": [],
   "source": []
  }
 ],
 "metadata": {
  "kernelspec": {
   "display_name": "Python 3",
   "language": "python",
   "name": "python3"
  },
  "language_info": {
   "codemirror_mode": {
    "name": "ipython",
    "version": 3
   },
   "file_extension": ".py",
   "mimetype": "text/x-python",
   "name": "python",
   "nbconvert_exporter": "python",
   "pygments_lexer": "ipython3",
   "version": "3.6.1"
  }
 },
 "nbformat": 4,
 "nbformat_minor": 2
}
